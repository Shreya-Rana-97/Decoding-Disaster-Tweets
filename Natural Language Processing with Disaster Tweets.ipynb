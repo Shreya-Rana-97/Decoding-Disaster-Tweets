{
 "cells": [
  {
   "cell_type": "code",
   "execution_count": 1,
   "metadata": {},
   "outputs": [],
   "source": [
    "import pandas as pd\n",
    "import numpy as np"
   ]
  },
  {
   "cell_type": "markdown",
   "metadata": {},
   "source": [
    "## Load Data"
   ]
  },
  {
   "cell_type": "code",
   "execution_count": 2,
   "metadata": {},
   "outputs": [
    {
     "data": {
      "text/html": [
       "<div>\n",
       "<style scoped>\n",
       "    .dataframe tbody tr th:only-of-type {\n",
       "        vertical-align: middle;\n",
       "    }\n",
       "\n",
       "    .dataframe tbody tr th {\n",
       "        vertical-align: top;\n",
       "    }\n",
       "\n",
       "    .dataframe thead th {\n",
       "        text-align: right;\n",
       "    }\n",
       "</style>\n",
       "<table border=\"1\" class=\"dataframe\">\n",
       "  <thead>\n",
       "    <tr style=\"text-align: right;\">\n",
       "      <th></th>\n",
       "      <th>id</th>\n",
       "      <th>keyword</th>\n",
       "      <th>location</th>\n",
       "      <th>text</th>\n",
       "      <th>target</th>\n",
       "    </tr>\n",
       "  </thead>\n",
       "  <tbody>\n",
       "    <tr>\n",
       "      <th>0</th>\n",
       "      <td>1</td>\n",
       "      <td>NaN</td>\n",
       "      <td>NaN</td>\n",
       "      <td>Our Deeds are the Reason of this #earthquake M...</td>\n",
       "      <td>1</td>\n",
       "    </tr>\n",
       "    <tr>\n",
       "      <th>1</th>\n",
       "      <td>4</td>\n",
       "      <td>NaN</td>\n",
       "      <td>NaN</td>\n",
       "      <td>Forest fire near La Ronge Sask. Canada</td>\n",
       "      <td>1</td>\n",
       "    </tr>\n",
       "    <tr>\n",
       "      <th>2</th>\n",
       "      <td>5</td>\n",
       "      <td>NaN</td>\n",
       "      <td>NaN</td>\n",
       "      <td>All residents asked to 'shelter in place' are ...</td>\n",
       "      <td>1</td>\n",
       "    </tr>\n",
       "    <tr>\n",
       "      <th>3</th>\n",
       "      <td>6</td>\n",
       "      <td>NaN</td>\n",
       "      <td>NaN</td>\n",
       "      <td>13,000 people receive #wildfires evacuation or...</td>\n",
       "      <td>1</td>\n",
       "    </tr>\n",
       "    <tr>\n",
       "      <th>4</th>\n",
       "      <td>7</td>\n",
       "      <td>NaN</td>\n",
       "      <td>NaN</td>\n",
       "      <td>Just got sent this photo from Ruby #Alaska as ...</td>\n",
       "      <td>1</td>\n",
       "    </tr>\n",
       "  </tbody>\n",
       "</table>\n",
       "</div>"
      ],
      "text/plain": [
       "   id keyword location                                               text  \\\n",
       "0   1     NaN      NaN  Our Deeds are the Reason of this #earthquake M...   \n",
       "1   4     NaN      NaN             Forest fire near La Ronge Sask. Canada   \n",
       "2   5     NaN      NaN  All residents asked to 'shelter in place' are ...   \n",
       "3   6     NaN      NaN  13,000 people receive #wildfires evacuation or...   \n",
       "4   7     NaN      NaN  Just got sent this photo from Ruby #Alaska as ...   \n",
       "\n",
       "   target  \n",
       "0       1  \n",
       "1       1  \n",
       "2       1  \n",
       "3       1  \n",
       "4       1  "
      ]
     },
     "execution_count": 2,
     "metadata": {},
     "output_type": "execute_result"
    }
   ],
   "source": [
    "train = pd.read_csv('train.csv')\n",
    "train.head()"
   ]
  },
  {
   "cell_type": "code",
   "execution_count": 3,
   "metadata": {},
   "outputs": [
    {
     "data": {
      "text/html": [
       "<div>\n",
       "<style scoped>\n",
       "    .dataframe tbody tr th:only-of-type {\n",
       "        vertical-align: middle;\n",
       "    }\n",
       "\n",
       "    .dataframe tbody tr th {\n",
       "        vertical-align: top;\n",
       "    }\n",
       "\n",
       "    .dataframe thead th {\n",
       "        text-align: right;\n",
       "    }\n",
       "</style>\n",
       "<table border=\"1\" class=\"dataframe\">\n",
       "  <thead>\n",
       "    <tr style=\"text-align: right;\">\n",
       "      <th></th>\n",
       "      <th>id</th>\n",
       "      <th>keyword</th>\n",
       "      <th>location</th>\n",
       "      <th>text</th>\n",
       "    </tr>\n",
       "  </thead>\n",
       "  <tbody>\n",
       "    <tr>\n",
       "      <th>0</th>\n",
       "      <td>0</td>\n",
       "      <td>NaN</td>\n",
       "      <td>NaN</td>\n",
       "      <td>Just happened a terrible car crash</td>\n",
       "    </tr>\n",
       "    <tr>\n",
       "      <th>1</th>\n",
       "      <td>2</td>\n",
       "      <td>NaN</td>\n",
       "      <td>NaN</td>\n",
       "      <td>Heard about #earthquake is different cities, s...</td>\n",
       "    </tr>\n",
       "    <tr>\n",
       "      <th>2</th>\n",
       "      <td>3</td>\n",
       "      <td>NaN</td>\n",
       "      <td>NaN</td>\n",
       "      <td>there is a forest fire at spot pond, geese are...</td>\n",
       "    </tr>\n",
       "    <tr>\n",
       "      <th>3</th>\n",
       "      <td>9</td>\n",
       "      <td>NaN</td>\n",
       "      <td>NaN</td>\n",
       "      <td>Apocalypse lighting. #Spokane #wildfires</td>\n",
       "    </tr>\n",
       "    <tr>\n",
       "      <th>4</th>\n",
       "      <td>11</td>\n",
       "      <td>NaN</td>\n",
       "      <td>NaN</td>\n",
       "      <td>Typhoon Soudelor kills 28 in China and Taiwan</td>\n",
       "    </tr>\n",
       "  </tbody>\n",
       "</table>\n",
       "</div>"
      ],
      "text/plain": [
       "   id keyword location                                               text\n",
       "0   0     NaN      NaN                 Just happened a terrible car crash\n",
       "1   2     NaN      NaN  Heard about #earthquake is different cities, s...\n",
       "2   3     NaN      NaN  there is a forest fire at spot pond, geese are...\n",
       "3   9     NaN      NaN           Apocalypse lighting. #Spokane #wildfires\n",
       "4  11     NaN      NaN      Typhoon Soudelor kills 28 in China and Taiwan"
      ]
     },
     "execution_count": 3,
     "metadata": {},
     "output_type": "execute_result"
    }
   ],
   "source": [
    "test = pd.read_csv('test.csv')\n",
    "test.head()"
   ]
  },
  {
   "cell_type": "markdown",
   "metadata": {},
   "source": [
    "## Analyse Data"
   ]
  },
  {
   "cell_type": "code",
   "execution_count": 4,
   "metadata": {},
   "outputs": [
    {
     "data": {
      "text/plain": [
       "(7613, 5)"
      ]
     },
     "execution_count": 4,
     "metadata": {},
     "output_type": "execute_result"
    }
   ],
   "source": [
    "train.shape    # Rows and columns in the data are 7613, 5."
   ]
  },
  {
   "cell_type": "code",
   "execution_count": 5,
   "metadata": {},
   "outputs": [
    {
     "data": {
      "text/plain": [
       "(3263, 4)"
      ]
     },
     "execution_count": 5,
     "metadata": {},
     "output_type": "execute_result"
    }
   ],
   "source": [
    "test.shape"
   ]
  },
  {
   "cell_type": "code",
   "execution_count": 6,
   "metadata": {},
   "outputs": [
    {
     "name": "stdout",
     "output_type": "stream",
     "text": [
      "Disaster took place :  0.4296597924602653 %\n",
      "Disaster did not took place :  0.5703402075397347 %\n"
     ]
    }
   ],
   "source": [
    "x,y = train['target'].value_counts()  \n",
    "print('Disaster took place : ',(y/(x+y)),'%')\n",
    "print('Disaster did not took place : ',(x/(x+y)),'%')          # So the data is fairly balanced"
   ]
  },
  {
   "cell_type": "code",
   "execution_count": 7,
   "metadata": {},
   "outputs": [
    {
     "data": {
      "text/plain": [
       "fatalities               45\n",
       "deluge                   42\n",
       "armageddon               42\n",
       "sinking                  41\n",
       "damage                   41\n",
       "                         ..\n",
       "forest%20fire            19\n",
       "epicentre                12\n",
       "threat                   11\n",
       "inundation               10\n",
       "radiation%20emergency     9\n",
       "Name: keyword, Length: 221, dtype: int64"
      ]
     },
     "execution_count": 7,
     "metadata": {},
     "output_type": "execute_result"
    }
   ],
   "source": [
    "train['keyword'].value_counts()"
   ]
  },
  {
   "cell_type": "code",
   "execution_count": 8,
   "metadata": {},
   "outputs": [
    {
     "data": {
      "text/plain": [
       "deluged               23\n",
       "demolished            22\n",
       "rubble                22\n",
       "first%20responders    21\n",
       "seismic               21\n",
       "                      ..\n",
       "threat                 5\n",
       "fatalities             5\n",
       "forest%20fire          5\n",
       "inundation             4\n",
       "epicentre              1\n",
       "Name: keyword, Length: 221, dtype: int64"
      ]
     },
     "execution_count": 8,
     "metadata": {},
     "output_type": "execute_result"
    }
   ],
   "source": [
    "test['keyword'].value_counts()"
   ]
  },
  {
   "cell_type": "markdown",
   "metadata": {},
   "source": [
    "## Data Imputation and Stopword Removal"
   ]
  },
  {
   "cell_type": "code",
   "execution_count": 9,
   "metadata": {
    "scrolled": true
   },
   "outputs": [
    {
     "data": {
      "text/plain": [
       "False    7552\n",
       "True       61\n",
       "Name: keyword, dtype: int64"
      ]
     },
     "execution_count": 9,
     "metadata": {},
     "output_type": "execute_result"
    }
   ],
   "source": [
    "train['keyword'].isna().value_counts() # 61 keyword values are null"
   ]
  },
  {
   "cell_type": "code",
   "execution_count": null,
   "metadata": {},
   "outputs": [],
   "source": [
    "#train = train.dropna(subset='keyword')\n",
    "#train.shape"
   ]
  },
  {
   "cell_type": "code",
   "execution_count": 10,
   "metadata": {},
   "outputs": [
    {
     "data": {
      "text/plain": [
       "False    7613\n",
       "Name: keyword, dtype: int64"
      ]
     },
     "execution_count": 10,
     "metadata": {},
     "output_type": "execute_result"
    }
   ],
   "source": [
    "train['keyword'].fillna('no_keyword',inplace=True)\n",
    "train['keyword'].isna().value_counts()"
   ]
  },
  {
   "cell_type": "code",
   "execution_count": 11,
   "metadata": {},
   "outputs": [
    {
     "data": {
      "text/plain": [
       "False    3263\n",
       "Name: keyword, dtype: int64"
      ]
     },
     "execution_count": 11,
     "metadata": {},
     "output_type": "execute_result"
    }
   ],
   "source": [
    "test['keyword'].fillna('no_keyword',inplace=True)\n",
    "test['keyword'].isna().value_counts()"
   ]
  },
  {
   "cell_type": "code",
   "execution_count": 12,
   "metadata": {},
   "outputs": [
    {
     "data": {
      "text/plain": [
       "USA                    104\n",
       "New York                71\n",
       "United States           50\n",
       "London                  45\n",
       "Canada                  29\n",
       "                      ... \n",
       "MontrÌ©al, QuÌ©bec       1\n",
       "Montreal                 1\n",
       "ÌÏT: 6.4682,3.18287      1\n",
       "Live4Heed??              1\n",
       "Lincoln                  1\n",
       "Name: location, Length: 3341, dtype: int64"
      ]
     },
     "execution_count": 12,
     "metadata": {},
     "output_type": "execute_result"
    }
   ],
   "source": [
    "train['location'].value_counts()"
   ]
  },
  {
   "cell_type": "code",
   "execution_count": 13,
   "metadata": {},
   "outputs": [
    {
     "data": {
      "text/plain": [
       "False    5080\n",
       "True     2533\n",
       "Name: location, dtype: int64"
      ]
     },
     "execution_count": 13,
     "metadata": {},
     "output_type": "execute_result"
    }
   ],
   "source": [
    "train['location'].isna().value_counts()"
   ]
  },
  {
   "cell_type": "code",
   "execution_count": 14,
   "metadata": {},
   "outputs": [
    {
     "data": {
      "text/plain": [
       "False    7613\n",
       "Name: keyword, dtype: int64"
      ]
     },
     "execution_count": 14,
     "metadata": {},
     "output_type": "execute_result"
    }
   ],
   "source": [
    "train['location'].fillna('no_location',inplace=True)\n",
    "train['keyword'].isna().value_counts()"
   ]
  },
  {
   "cell_type": "code",
   "execution_count": 15,
   "metadata": {},
   "outputs": [],
   "source": [
    "# https://stackoverflow.com/a/47091490/4084039\n",
    "import re\n",
    "\n",
    "def decontracted(phrase):\n",
    "    # specific\n",
    "    phrase = re.sub(r\"won't\", \"will not\", phrase)\n",
    "    phrase = re.sub(r\"can\\'t\", \"can not\", phrase)\n",
    "    phrase = re.sub(r\"I'm\", \"I am\", phrase)\n",
    "    phrase = re.sub(r\"http\\S+\", \"\", phrase)  # to remove url\n",
    "    phtase = re.sub(r\"eyewitness\", \"eye witness\", phrase)\n",
    "    phrase = re.sub(r\"hellfire\", \"hell fire\", phrase)\n",
    "    phrase = re.sub(r\"bioterrorism\", \"bio terrorism\", phrase)\n",
    "    phrase = re.sub(r\"bioterror\", \"bio terror\", phrase)\n",
    "    phrase = re.sub(r\"wildfire\", \"wild fire\", phrase)\n",
    "    phrase = re.sub(r\"eyewitness\", \"eye witness\", phrase)\n",
    "    \n",
    "\n",
    "    # general\n",
    "    phrase = re.sub(r\"n\\'t\", \" not\", phrase)\n",
    "    phrase = re.sub(r\"\\'re\", \" are\", phrase)\n",
    "    phrase = re.sub(r\"\\'s\", \" is\", phrase)\n",
    "    phrase = re.sub(r\"\\'d\", \" would\", phrase)\n",
    "    phrase = re.sub(r\"\\'ll\", \" will\", phrase)\n",
    "    phrase = re.sub(r\"\\'t\", \" not\", phrase)\n",
    "    phrase = re.sub(r\"\\'ve\", \" have\", phrase)\n",
    "    phrase = re.sub(r\"\\'m\", \" am\", phrase)\n",
    "    return phrase"
   ]
  },
  {
   "cell_type": "code",
   "execution_count": 16,
   "metadata": {},
   "outputs": [],
   "source": [
    "# https://gist.github.com/sebleier/554280\n",
    "# we are removing the words from the stop words list: 'no', 'nor', 'not'\n",
    "stopwords= ['i', 'me', 'my', 'myself', 'we', 'our', 'ours', 'ourselves', 'you', \"you're\", \"you've\",\\\n",
    "            \"you'll\", \"you'd\", 'your', 'yours', 'yourself', 'yourselves', 'he', 'him', 'his', 'himself', \\\n",
    "            'she', \"she's\", 'her', 'hers', 'herself', 'it', \"it's\", 'its', 'itself', 'they', 'them', 'their',\\\n",
    "            'theirs', 'themselves', 'what', 'which', 'who', 'whom', 'this', 'that', \"that'll\", 'these', 'those', \\\n",
    "            'am', 'is', 'are', 'was', 'were', 'be', 'been', 'being', 'have', 'has', 'had', 'having', 'do', 'does', \\\n",
    "            'did', 'doing', 'a', 'an', 'the', 'and', 'but', 'if', 'or', 'because', 'as', 'until', 'while', 'of', \\\n",
    "            'at', 'by', 'for', 'with', 'about', 'against', 'between', 'into', 'through', 'during', 'before', 'after',\\\n",
    "            'above', 'below', 'to', 'from', 'up', 'down', 'in', 'out', 'on', 'off', 'over', 'under', 'again', 'further',\\\n",
    "            'then', 'once', 'here', 'there', 'when', 'where', 'why', 'how', 'all', 'any', 'both', 'each', 'few', 'more',\\\n",
    "            'most', 'other', 'some', 'such', 'only', 'own', 'same', 'so', 'than', 'too', 'very', \\\n",
    "            's', 't', 'can', 'will', 'just', 'don', \"don't\", 'should', \"should've\", 'now', 'd', 'll', 'm', 'o', 're', \\\n",
    "            've', 'y', 'ain', 'aren', \"aren't\", 'couldn', \"couldn't\", 'didn', \"didn't\", 'doesn', \"doesn't\", 'hadn',\\\n",
    "            \"hadn't\", 'hasn', \"hasn't\", 'haven', \"haven't\", 'isn', \"isn't\", 'ma', 'mightn', \"mightn't\", 'mustn',\\\n",
    "            \"mustn't\", 'needn', \"needn't\", 'shan', \"shan't\", 'shouldn', \"shouldn't\", 'wasn', \"wasn't\", 'weren', \"weren't\", \\\n",
    "            'won', \"won't\", 'wouldn', \"wouldn't\"]"
   ]
  },
  {
   "cell_type": "code",
   "execution_count": 17,
   "metadata": {},
   "outputs": [],
   "source": [
    "# Combining all the above stundents \n",
    "from tqdm import tqdm\n",
    "def preprocess_text(text_data):\n",
    "    preprocessed_text = []\n",
    "    # tqdm is for printing the status bar\n",
    "    for sentance in tqdm(text_data):\n",
    "        sent = decontracted(sentance)\n",
    "        sent = sent.replace('\\\\r', ' ')\n",
    "        sent = sent.replace('\\\\n', ' ')\n",
    "        sent = sent.replace('\\\\\"', ' ')\n",
    "        sent = re.sub('[^A-Za-z0-9]+', ' ', sent)\n",
    "        sent = re.sub('[0-9]+', '', sent)\n",
    "        # https://gist.github.com/sebleier/554280\n",
    "        sent = ' '.join(e for e in sent.split() if e.lower() not in stopwords)\n",
    "        preprocessed_text.append(sent.lower().strip())\n",
    "    return preprocessed_text"
   ]
  },
  {
   "cell_type": "code",
   "execution_count": 18,
   "metadata": {},
   "outputs": [
    {
     "name": "stderr",
     "output_type": "stream",
     "text": [
      "100%|████████████████████████████████████████████████████████████████████████████| 7613/7613 [00:00<00:00, 7982.47it/s]\n"
     ]
    }
   ],
   "source": [
    "processed_tr_text = preprocess_text(train['text'].values)"
   ]
  },
  {
   "cell_type": "code",
   "execution_count": 19,
   "metadata": {},
   "outputs": [
    {
     "name": "stdout",
     "output_type": "stream",
     "text": [
      "0    Our Deeds are the Reason of this #earthquake M...\n",
      "1               Forest fire near La Ronge Sask. Canada\n",
      "2    All residents asked to 'shelter in place' are ...\n",
      "3    13,000 people receive #wildfires evacuation or...\n",
      "4    Just got sent this photo from Ruby #Alaska as ...\n",
      "Name: text, dtype: object\n"
     ]
    }
   ],
   "source": [
    "print(train['text'][0:5])"
   ]
  },
  {
   "cell_type": "code",
   "execution_count": 20,
   "metadata": {},
   "outputs": [
    {
     "data": {
      "text/plain": [
       "7613"
      ]
     },
     "execution_count": 20,
     "metadata": {},
     "output_type": "execute_result"
    }
   ],
   "source": [
    "len(processed_tr_text)"
   ]
  },
  {
   "cell_type": "code",
   "execution_count": 21,
   "metadata": {},
   "outputs": [
    {
     "data": {
      "text/plain": [
       "['deeds reason earthquake may allah forgive us',\n",
       " 'forest fire near la ronge sask canada',\n",
       " 'residents asked ishelter place notified officers no evacuation shelter place orders expected',\n",
       " 'people receive wild fires evacuation orders california',\n",
       " 'got sent photo ruby alaska smoke wild fires pours school']"
      ]
     },
     "execution_count": 21,
     "metadata": {},
     "output_type": "execute_result"
    }
   ],
   "source": [
    "processed_tr_text[0:5]"
   ]
  },
  {
   "cell_type": "code",
   "execution_count": 22,
   "metadata": {},
   "outputs": [
    {
     "name": "stderr",
     "output_type": "stream",
     "text": [
      "100%|███████████████████████████████████████████████████████████████████████████| 7613/7613 [00:00<00:00, 20267.42it/s]\n"
     ]
    }
   ],
   "source": [
    "processed_tr_key = preprocess_text(train['keyword'].values)"
   ]
  },
  {
   "cell_type": "code",
   "execution_count": 23,
   "metadata": {},
   "outputs": [
    {
     "data": {
      "text/plain": [
       "0     no_keyword\n",
       "1     no_keyword\n",
       "2     no_keyword\n",
       "3     no_keyword\n",
       "4     no_keyword\n",
       "         ...    \n",
       "65        ablaze\n",
       "66        ablaze\n",
       "67      accident\n",
       "68      accident\n",
       "69      accident\n",
       "Name: keyword, Length: 70, dtype: object"
      ]
     },
     "execution_count": 23,
     "metadata": {},
     "output_type": "execute_result"
    }
   ],
   "source": [
    "train['keyword'][:70]"
   ]
  },
  {
   "cell_type": "code",
   "execution_count": 24,
   "metadata": {},
   "outputs": [
    {
     "name": "stdout",
     "output_type": "stream",
     "text": [
      "222\n",
      "{'nuclear reactor', 'forest fire', 'destroyed', 'weapons', 'blizzard', 'annihilated', 'smoke', 'outbreak', 'threat', 'evacuated', 'rescue', 'fatalities', 'oil spill', 'derail', 'trauma', 'fatal', 'panic', 'tragedy', 'wounds', 'blown', 'cliff fall', 'meltdown', 'obliteration', 'collision', 'crashed', 'avalanche', 'blaze', 'wounded', 'natural disaster', 'screaming', 'snowstorm', 'evacuation', 'lightning', 'battle', 'trouble', 'flattened', 'survive', 'dead', 'war zone', 'ambulance', 'fire truck', 'blazing', 'bombed', 'drowning', 'tsunami', 'blew', 'refugees', 'ablaze', 'terrorist', 'screams', 'riot', 'screamed', 'sinkhole', 'emergency plan', 'police', 'army', 'crushed', 'detonation', 'attack', 'armageddon', 'deluge', 'demolition', 'drown', 'thunder', 'tornado', 'chemical emergency', 'debris', 'eye witness', 'flood', 'heat wave', 'wrecked', 'bio terror', 'cyclone', 'electrocute', 'emergency services', 'sirens', 'drowned', 'rainstorm', 'curfew', 'aftershock', 'quarantine', 'no keyword', 'arson', 'arsonist', 'derailment', 'catastrophic', 'survived', 'crash', 'hijacking', 'siren', 'whirlwind', 'demolished', 'landslide', 'detonate', 'burning', 'electrocuted', 'exploded', 'obliterated', 'devastation', 'hailstorm', 'explosion', 'mudslide', 'destroy', 'military', 'wild fire', 'fatality', 'inundation', 'wreckage', 'explode', 'bleeding', 'danger', 'injury', 'sunk', 'suicide bombing', 'seismic', 'twister', 'thunderstorm', 'obliterate', 'inundated', 'demolish', 'mass murderer', 'blood', 'radiation emergency', 'casualties', 'body bagging', 'catastrophe', 'collide', 'collapsed', 'floods', 'volcano', 'drought', 'hijack', 'crush', 'ruin', 'famine', 'body bags', 'hijacker', 'desolation', 'fear', 'casualty', 'first responders', 'lava', 'engulfed', 'hail', 'massacre', 'panicking', 'rescued', 'desolate', 'hostage', 'razed', 'suicide bomb', 'bridge collapse', 'hazard', 'loud bang', 'violent storm', 'deluged', 'emergency', 'hazardous', 'apocalypse', 'rioting', 'bush fires', 'flooding', 'suicide bomber', 'flames', 'wild fires', 'pandemonium', 'bloody', 'body bag', 'rescuers', 'trapped', 'disaster', 'sinking', 'collided', 'windstorm', 'mayhem', 'bomb', 'destruction', 'damage', 'earthquake', 'structural failure', 'bio terrorism', 'blight', 'accident', 'traumatised', 'buildings burning', 'wreck', 'burning buildings', 'injuries', 'survivors', 'terrorism', 'deaths', 'hostages', 'annihilation', 'buildings fire', 'death', 'evacuate', 'dust storm', 'nuclear disaster', 'typhoon', 'upheaval', 'devastated', 'stretcher', 'airplane accident', 'weapon', 'burned', 'derailed', 'bombing', 'forest fires', 'epicentre', 'attacked', 'harm', 'injured', 'storm', 'mass murder', 'fire', 'hell fire', 'collapse', 'sandstorm', 'rubble', 'hurricane', 'displaced', 'quarantined'}\n"
     ]
    }
   ],
   "source": [
    "print(len(set(processed_tr_key)))\n",
    "print(set(processed_tr_key))"
   ]
  },
  {
   "cell_type": "code",
   "execution_count": 25,
   "metadata": {},
   "outputs": [
    {
     "name": "stderr",
     "output_type": "stream",
     "text": [
      "100%|███████████████████████████████████████████████████████████████████████████| 7613/7613 [00:00<00:00, 18067.01it/s]\n"
     ]
    }
   ],
   "source": [
    "processed_tr_loc = preprocess_text(train['location'].values)"
   ]
  },
  {
   "cell_type": "code",
   "execution_count": 26,
   "metadata": {},
   "outputs": [
    {
     "data": {
      "text/plain": [
       "['no location',\n",
       " 'no location',\n",
       " 'no location',\n",
       " 'no location',\n",
       " 'no location',\n",
       " 'no location',\n",
       " 'no location',\n",
       " 'no location',\n",
       " 'no location',\n",
       " 'no location',\n",
       " 'no location',\n",
       " 'no location',\n",
       " 'no location',\n",
       " 'no location',\n",
       " 'no location',\n",
       " 'no location',\n",
       " 'no location',\n",
       " 'no location',\n",
       " 'no location',\n",
       " 'no location',\n",
       " 'no location',\n",
       " 'no location',\n",
       " 'no location',\n",
       " 'no location',\n",
       " 'no location',\n",
       " 'no location',\n",
       " 'no location',\n",
       " 'no location',\n",
       " 'no location',\n",
       " 'no location',\n",
       " 'no location',\n",
       " 'birmingham',\n",
       " 'est september bristol',\n",
       " 'africa',\n",
       " 'philadelphia pa',\n",
       " 'london uk',\n",
       " 'pretoria',\n",
       " 'world wide',\n",
       " 'no location',\n",
       " 'paranaque city',\n",
       " 'live webcam',\n",
       " 'no location',\n",
       " 'milky way',\n",
       " 'no location',\n",
       " 'no location',\n",
       " 'no location',\n",
       " 'greensboro north carolina',\n",
       " 'no location',\n",
       " 'live webcam',\n",
       " 'england',\n",
       " 'sheffield township ohio',\n",
       " 'india',\n",
       " 'barbados',\n",
       " 'anaheim',\n",
       " 'abuja',\n",
       " 'usa',\n",
       " 'south africa',\n",
       " 'sao paulo brazil',\n",
       " 'hollywoodland',\n",
       " 'edmonton alberta treaty',\n",
       " 'no location',\n",
       " 'inang pamantasan',\n",
       " 'twitter lockout progress',\n",
       " 'concord ca',\n",
       " 'calgary ab',\n",
       " 'birmingham',\n",
       " 'san francisco',\n",
       " 'clvlnd',\n",
       " 'nashville tn',\n",
       " 'santa clara ca',\n",
       " 'uk',\n",
       " 'st louis mo',\n",
       " 'walker county alabama',\n",
       " 'australia',\n",
       " 'north carolina',\n",
       " 'no location',\n",
       " 'norf carolina',\n",
       " 'san mateo county ca',\n",
       " 'north carolina',\n",
       " 'njoro kenya',\n",
       " 'no location',\n",
       " 'sister bedroom',\n",
       " 'no location',\n",
       " 'arlington tx',\n",
       " 'south bloomfield oh',\n",
       " 'no location',\n",
       " 'new hanover county nc',\n",
       " 'maldives',\n",
       " 'manchester nh',\n",
       " 'wilmington nc',\n",
       " 'no location',\n",
       " 'new hanover county nc',\n",
       " 'no location',\n",
       " 'global',\n",
       " 'alberta sask montana',\n",
       " 'charlotte',\n",
       " 'baton rouge la',\n",
       " 'hagerstown md',\n",
       " 'gloucestershire uk',\n",
       " 'no location',\n",
       " 'uk',\n",
       " 'nairobi kenya',\n",
       " 'instagram heyimginog',\n",
       " '',\n",
       " 'switzerland',\n",
       " '',\n",
       " 'us',\n",
       " '',\n",
       " 'instagram heyimginog',\n",
       " '',\n",
       " 'no location',\n",
       " 'somewhere know',\n",
       " 'no location',\n",
       " 'belgium',\n",
       " 'switzerland',\n",
       " 'us',\n",
       " 'no location',\n",
       " 'dope show',\n",
       " 'switzerland',\n",
       " 'switzerland',\n",
       " 'oshawa canada',\n",
       " 'baker city oregon',\n",
       " 'no location',\n",
       " 'no location',\n",
       " 'united states',\n",
       " '',\n",
       " '',\n",
       " 'marysville ca',\n",
       " '',\n",
       " 'hermosa beach ca',\n",
       " 'no location',\n",
       " 'no location',\n",
       " 'no location',\n",
       " '',\n",
       " '',\n",
       " 'no location',\n",
       " '',\n",
       " 'pennsylvania',\n",
       " 'salt lake city utah',\n",
       " 'palo alto ca',\n",
       " 'no location',\n",
       " 'spain opa locka fl',\n",
       " 'jaipur india',\n",
       " 'hyderabad telangana india',\n",
       " 'eagle pass texas',\n",
       " 'bangalore',\n",
       " 'financial news views',\n",
       " 'no location',\n",
       " 'indonesia',\n",
       " 'boyfriends legs',\n",
       " 'new mexico usa',\n",
       " 'somewhere',\n",
       " 'no location',\n",
       " 'mumbai india',\n",
       " 'sri lanka',\n",
       " 'not u resident',\n",
       " 'no location',\n",
       " 'lehigh valley pa',\n",
       " 'canada',\n",
       " 'no location',\n",
       " 'thrissur',\n",
       " 'havenford',\n",
       " 'india',\n",
       " '',\n",
       " 'no location',\n",
       " 'israel',\n",
       " 'fashion heaven ig tmid',\n",
       " 'san francisco ca',\n",
       " 'italy',\n",
       " 'nyc',\n",
       " 'toronto',\n",
       " 'no location',\n",
       " 'jackson',\n",
       " 'new york worldwide',\n",
       " 'no location',\n",
       " 'new orleans la',\n",
       " 'west wales',\n",
       " 'no location',\n",
       " 'happily married kids',\n",
       " 'cambridge',\n",
       " 'arizona',\n",
       " 'mumbai',\n",
       " 'no location',\n",
       " 'amsterdam',\n",
       " 'swindon england',\n",
       " 'no location',\n",
       " 'happily married kids',\n",
       " 'no location',\n",
       " 'williamstown vt',\n",
       " 'north carolina usa',\n",
       " 'no location',\n",
       " 'karachi',\n",
       " 'happily married kids',\n",
       " 'happily married kids',\n",
       " 'loveland colorado',\n",
       " 'c h c g',\n",
       " 'no location',\n",
       " 'l',\n",
       " 'no location',\n",
       " 'canada',\n",
       " 'visit youtube channel',\n",
       " 'lexington',\n",
       " 'no location',\n",
       " 'usa',\n",
       " 'hannover germany',\n",
       " 'no location',\n",
       " 'no location',\n",
       " 'playa',\n",
       " 'davidson nc',\n",
       " 'higher places',\n",
       " 'horsemind mi',\n",
       " 'new york ny',\n",
       " 'boksburg',\n",
       " 'no location',\n",
       " 'no location',\n",
       " 'no location',\n",
       " 'v rp ozrp mv au r',\n",
       " 'greater manchester uk',\n",
       " 'boston',\n",
       " 'no location',\n",
       " 'no location',\n",
       " 'canopy kingdom',\n",
       " 'no location',\n",
       " 'usa',\n",
       " 'no location',\n",
       " 'no location',\n",
       " 'zone layer',\n",
       " 'london',\n",
       " 'trancy manor',\n",
       " 'no location',\n",
       " 'south',\n",
       " 'no location',\n",
       " 'west lancashire uk',\n",
       " 'pa',\n",
       " 'no location',\n",
       " 'views six',\n",
       " 'no location',\n",
       " 'university toronto',\n",
       " 'no location',\n",
       " 'swaning around',\n",
       " 'no location',\n",
       " 'london',\n",
       " 'albany ny',\n",
       " 'california usa',\n",
       " 'no location',\n",
       " 'no location',\n",
       " 'no location',\n",
       " 'wild wild web',\n",
       " 'subconscious la',\n",
       " 'spain',\n",
       " 'no location',\n",
       " 'ca physically boston strong',\n",
       " 'yeezy taught nv',\n",
       " 'no location',\n",
       " 'ca physically boston strong',\n",
       " 'united states',\n",
       " 'no location',\n",
       " 'no location',\n",
       " 'rock hill sc',\n",
       " 'coolidge az',\n",
       " 'republic texas',\n",
       " 'no location',\n",
       " 'no location',\n",
       " 'phoenix az',\n",
       " 'ljubljana slovenia',\n",
       " 'connecticut',\n",
       " 'tacoma washington',\n",
       " 'no location',\n",
       " 'no location',\n",
       " 'subconscious la',\n",
       " 'big houston boston denver',\n",
       " 'chandler az',\n",
       " 'colorado',\n",
       " 'sindria',\n",
       " 'no location',\n",
       " 'no location',\n",
       " 'texas',\n",
       " 'elk grove ca usa',\n",
       " 'texas',\n",
       " 'no location',\n",
       " 'shire',\n",
       " 'austin tx',\n",
       " 'oakland',\n",
       " 'no location',\n",
       " 'no location',\n",
       " 'albuquerque',\n",
       " 'no location',\n",
       " 'buenos aires argentina',\n",
       " 'no location',\n",
       " 'no location',\n",
       " 'san antonio ish tx',\n",
       " 'san francisco',\n",
       " 'oregon usa',\n",
       " 'harlingen tx',\n",
       " 'buffalo ny',\n",
       " 'no location',\n",
       " 'no location',\n",
       " 'no location',\n",
       " 'las vegas',\n",
       " 'no location',\n",
       " 'no location',\n",
       " 'no location',\n",
       " 'tokyo',\n",
       " 'no location',\n",
       " 'california united states',\n",
       " 'california united states',\n",
       " 'flightcity uk',\n",
       " 'no location',\n",
       " 'no location',\n",
       " 'alphen aan den rijn holland',\n",
       " 'no location',\n",
       " 'wrigley field',\n",
       " 'no location',\n",
       " 'probably strip club',\n",
       " 'canada',\n",
       " 'england',\n",
       " 'usa',\n",
       " 'california united states',\n",
       " 'no location',\n",
       " 'california united states',\n",
       " 'new york city',\n",
       " '',\n",
       " 'rotterdam zuid holland',\n",
       " 'derry',\n",
       " 'nowhere everywhere',\n",
       " 'florida usa',\n",
       " 'worldwide',\n",
       " 'no location',\n",
       " 'nowhere everywhere',\n",
       " 'east coast',\n",
       " 'california',\n",
       " 'toronto',\n",
       " 'no location',\n",
       " 'orwellion police state',\n",
       " 'castaic ca',\n",
       " 'helsinki finland',\n",
       " 'east kilbride',\n",
       " 'no location',\n",
       " 'flightcity uk',\n",
       " 'middle eastern palace',\n",
       " 'kent',\n",
       " 'no location',\n",
       " 'no location',\n",
       " 'nowhere everywhere',\n",
       " 'flightcity uk',\n",
       " 'perthshire',\n",
       " 'no location',\n",
       " 'no location',\n",
       " 'no location',\n",
       " 'no location',\n",
       " 'no location',\n",
       " 'no location',\n",
       " 'twitch tv naturalemblem',\n",
       " 'cyprus',\n",
       " 'memphis tn',\n",
       " 'no location',\n",
       " 'studio',\n",
       " 'hollywood ca',\n",
       " 'no location',\n",
       " 'new york',\n",
       " 'no location',\n",
       " 'no location',\n",
       " 'pakistan',\n",
       " 'mexico',\n",
       " 'no location',\n",
       " 'no location',\n",
       " 'campinas sp',\n",
       " 'no location',\n",
       " 'harlem new york',\n",
       " 'new york',\n",
       " 'no location',\n",
       " 'no location',\n",
       " 'no location',\n",
       " 'no location',\n",
       " 'washington dc',\n",
       " 'burbank ca',\n",
       " 'new york',\n",
       " 'no location',\n",
       " 'no location',\n",
       " '',\n",
       " 'no location',\n",
       " 'spokane washington',\n",
       " 'usa',\n",
       " 'charlotte nc',\n",
       " 'empire state',\n",
       " 'no location',\n",
       " 'no location',\n",
       " 'jerusalem',\n",
       " 'kingston pennsylvania',\n",
       " 'milwaukee wi',\n",
       " 'zero branco',\n",
       " 'republic texas',\n",
       " 'no location',\n",
       " 'bajaur',\n",
       " 'usa',\n",
       " 'eldoret kenya',\n",
       " '',\n",
       " 'jerusalem',\n",
       " 'miami fl',\n",
       " 'no location',\n",
       " 'los angeles ca',\n",
       " 'north east region singapore',\n",
       " 'eldoret kenya',\n",
       " 'no location',\n",
       " 'chicago',\n",
       " 'earth',\n",
       " 'jerusalem israel',\n",
       " 'no location',\n",
       " 'menasha wi',\n",
       " 'no location',\n",
       " 'no location',\n",
       " 'no location',\n",
       " 'ss',\n",
       " 'atlanta',\n",
       " 'earth',\n",
       " 'ss',\n",
       " 'worldwide',\n",
       " 'bleak house',\n",
       " 'heccfidmss gmail com',\n",
       " 'ss',\n",
       " 'toronto',\n",
       " 'blonde bi fry',\n",
       " 'america',\n",
       " 'nyc ex islamophobe',\n",
       " 'sf bay area',\n",
       " 'orange county california',\n",
       " 'ss',\n",
       " 'winston salem north carolina',\n",
       " 'ss',\n",
       " 'no location',\n",
       " 'adelaide south australia',\n",
       " 'ss',\n",
       " 'washington dc',\n",
       " 'no location',\n",
       " 'california',\n",
       " 'ss',\n",
       " 'snapchat fvck casper',\n",
       " 'new york',\n",
       " 'no location',\n",
       " 'ss',\n",
       " 'ss',\n",
       " 'ss',\n",
       " 'no location',\n",
       " 'united states',\n",
       " 'no location',\n",
       " 'no location',\n",
       " 'dallas tx',\n",
       " 'nyc',\n",
       " 'no location',\n",
       " 'location',\n",
       " 'selena britney hilary',\n",
       " 'no location',\n",
       " 'no location',\n",
       " 'ireland',\n",
       " 'freeport il usa',\n",
       " 'no location',\n",
       " 'dubai',\n",
       " 'tucson az',\n",
       " 'india',\n",
       " 'seattle wa',\n",
       " 'no location',\n",
       " 'bellevue ne',\n",
       " 'west bank gaza strip',\n",
       " 'flg',\n",
       " 'no location',\n",
       " 'scotland united kingdom',\n",
       " 'no location',\n",
       " 'online not even kidding',\n",
       " 'no location',\n",
       " 'rowyso dallas',\n",
       " 'halton ontario',\n",
       " 'mumbai',\n",
       " 'portland oregon',\n",
       " 'fimak ist bolge muduru',\n",
       " 'no location',\n",
       " 'london',\n",
       " 'unite blue',\n",
       " 'no location',\n",
       " 'dayton ohio',\n",
       " 'no location',\n",
       " 'global',\n",
       " 'ph',\n",
       " 'port jervis ny',\n",
       " 'city joy',\n",
       " 'los angeles ca',\n",
       " 'texas usa',\n",
       " 'blam squad',\n",
       " 'cch',\n",
       " 'atx',\n",
       " 'mauritius',\n",
       " 'akron ohio usa',\n",
       " 'no location',\n",
       " 'no location',\n",
       " 'no location',\n",
       " 'no location',\n",
       " 'london',\n",
       " 'london st catharines',\n",
       " 'no location',\n",
       " 'peshawar',\n",
       " 'no location',\n",
       " 'lealman florida',\n",
       " 'los angeles ca',\n",
       " 'san francisco ca',\n",
       " 'gdjb asot',\n",
       " 'groningen netherlands europe',\n",
       " 'livingston il u',\n",
       " 'arundel',\n",
       " 'no location',\n",
       " 'america',\n",
       " 'anna maria fl',\n",
       " 'usa',\n",
       " 'israel',\n",
       " 'hammock fl usa',\n",
       " '',\n",
       " 'paulo sp brasil',\n",
       " 'dimitri arms',\n",
       " 'oslo norway',\n",
       " 'los angeles',\n",
       " 'loughton essex uk',\n",
       " 'guaravitas',\n",
       " 'no location',\n",
       " 'score goals buying',\n",
       " 'new york',\n",
       " 'ireland',\n",
       " 'no location',\n",
       " 'uk',\n",
       " 'london kent se england',\n",
       " 'score team goals buying',\n",
       " 'no location',\n",
       " 'new york ny',\n",
       " 'south central wales',\n",
       " 'no location',\n",
       " 'jersey city new jersey',\n",
       " 'no location',\n",
       " 'no location',\n",
       " 'denver co',\n",
       " 'brasil',\n",
       " 'buy give money',\n",
       " 'w maple suite',\n",
       " 'buy give money',\n",
       " 'buy give money',\n",
       " 'philippines',\n",
       " 'freeport il',\n",
       " 'canada',\n",
       " 'world',\n",
       " 'no location',\n",
       " 'danville va',\n",
       " 'new york',\n",
       " 'no location',\n",
       " 'no location',\n",
       " 'uk great britain',\n",
       " 'nyc',\n",
       " 'jerusalem',\n",
       " 'no location',\n",
       " 'no location',\n",
       " 'san jose ca',\n",
       " 'usa',\n",
       " 'san francisco',\n",
       " 'no location',\n",
       " 'dallas tx',\n",
       " 'baton rouge la',\n",
       " 'use tmw tweets get rt',\n",
       " 'earth',\n",
       " 'no location',\n",
       " 'no location',\n",
       " 'utah',\n",
       " 'wisconsin',\n",
       " 'west richland wa',\n",
       " 'chicago',\n",
       " 'new york',\n",
       " 'usa',\n",
       " 'australia',\n",
       " 'california',\n",
       " 'washington c',\n",
       " 'nc',\n",
       " 'no location',\n",
       " 'west virginia usa',\n",
       " 'no location',\n",
       " 'british girl texas',\n",
       " 'silver spring md',\n",
       " 'usa',\n",
       " 'phoenix az',\n",
       " 'atlanta ga',\n",
       " 'manhattan ny',\n",
       " 'wilmington de',\n",
       " 'no location',\n",
       " 'memphis',\n",
       " 'itunes',\n",
       " 'no location',\n",
       " 'united states',\n",
       " 'oxford ms',\n",
       " 'no location',\n",
       " 'us',\n",
       " 'atlanta ga',\n",
       " 'no location',\n",
       " 'pelham al',\n",
       " 'new york',\n",
       " 'atlanta ga',\n",
       " 'jacksonville fl',\n",
       " 'arkansas jonesboro',\n",
       " 'across atlantic',\n",
       " 'melbourne florida',\n",
       " 'worldwide',\n",
       " 'no location',\n",
       " 'moon',\n",
       " 'extraterrestrial highway',\n",
       " 'no location',\n",
       " 'espoo finland',\n",
       " 'no location',\n",
       " 'washington c area',\n",
       " 'no location',\n",
       " 'oes th point sisstar ti',\n",
       " 'sydney new south wales',\n",
       " 'no location',\n",
       " 'no location',\n",
       " 'no location',\n",
       " 'san francisco ca',\n",
       " 'no location',\n",
       " 'no location',\n",
       " 'netherlands amsterdam virtual',\n",
       " 'no location',\n",
       " 'new york city',\n",
       " 'hudson valley ny',\n",
       " 'philadelphia pa',\n",
       " 'no location',\n",
       " 'no location',\n",
       " 'timeline kamu',\n",
       " 'no location',\n",
       " 'no location',\n",
       " 'no location',\n",
       " 'no location',\n",
       " 'budapest hungary',\n",
       " 'no location',\n",
       " 'no location',\n",
       " 'no location',\n",
       " 'no location',\n",
       " 'no location',\n",
       " 'no location',\n",
       " 'searching bae',\n",
       " 'sydney new south wales',\n",
       " 'california',\n",
       " 'no location',\n",
       " 'no location',\n",
       " 'no location',\n",
       " 'eagle mountain texas',\n",
       " 'columbus',\n",
       " 'no location',\n",
       " 'temecula ca',\n",
       " 'atlanta ga',\n",
       " 'fresno ca',\n",
       " 'no location',\n",
       " 'no location',\n",
       " 'no location',\n",
       " 'australia',\n",
       " 'raleigh durham nc',\n",
       " 'ducked',\n",
       " 'no location',\n",
       " 'rio de janeiro',\n",
       " 'no location',\n",
       " '',\n",
       " 'columbus oh',\n",
       " 'pa',\n",
       " 'no location',\n",
       " 'mo city',\n",
       " 'tripsburg ms',\n",
       " 'durham n c',\n",
       " 'delhi',\n",
       " 'arizona',\n",
       " 'penn hills pa',\n",
       " 'karachi',\n",
       " 'seattle wa',\n",
       " 'no location',\n",
       " 'mo city',\n",
       " 'no location',\n",
       " 'southern california desert',\n",
       " 'gotham city',\n",
       " 'no location',\n",
       " 'contac bfe',\n",
       " 'dallas tx',\n",
       " 'no location',\n",
       " 'pig symbol alabama',\n",
       " 'intramuros manila',\n",
       " 'no location',\n",
       " 'new york',\n",
       " 'no location',\n",
       " 'no location',\n",
       " 'no location',\n",
       " 'world g g',\n",
       " 'no location',\n",
       " 'worlds',\n",
       " 'state georgia',\n",
       " 'no location',\n",
       " 'screen',\n",
       " 'lima peru',\n",
       " 'no location',\n",
       " 'no location',\n",
       " 'worldwide',\n",
       " 'no location',\n",
       " 'no location',\n",
       " 'saltillo coahuila de zaragoza',\n",
       " 'no location',\n",
       " 'no location',\n",
       " 'suitland',\n",
       " 'everywhere',\n",
       " 'konoha',\n",
       " 'swag francisco',\n",
       " 'saint marys ga',\n",
       " 'new york',\n",
       " 'nigeria',\n",
       " 'essex brighton',\n",
       " 'no location',\n",
       " 'pennsylvania pa',\n",
       " 'no location',\n",
       " 'rockford il',\n",
       " 'no location',\n",
       " 'az',\n",
       " 'no location',\n",
       " 'no location',\n",
       " 'vero beach fl',\n",
       " '',\n",
       " 'no location',\n",
       " 'middle no',\n",
       " 'baltimore md',\n",
       " 'florida usa',\n",
       " 'dmv fashion school ksu',\n",
       " 'nice places',\n",
       " 'no location',\n",
       " 'quantico va',\n",
       " 'no location',\n",
       " 'no location',\n",
       " 'no location',\n",
       " 'no location',\n",
       " 'island lake il',\n",
       " 'live oak tx',\n",
       " 'no location',\n",
       " 'gages lake il',\n",
       " 'no location',\n",
       " 'madisonville tn',\n",
       " 'basketball city usa',\n",
       " 'aep',\n",
       " 'no location',\n",
       " 'alberta pack',\n",
       " 'expelcl',\n",
       " 'heart ghost town',\n",
       " 'great state texas',\n",
       " 'no location',\n",
       " 'alicante valencia',\n",
       " 'no location',\n",
       " 'atlanta',\n",
       " 'no location',\n",
       " 'greensboro nc',\n",
       " 'indiana',\n",
       " 'local dump',\n",
       " 'no location',\n",
       " 'no location',\n",
       " 'no location',\n",
       " 'seattle',\n",
       " 'southampton england',\n",
       " '',\n",
       " 'waterford mi',\n",
       " 'iowa usa',\n",
       " 'va',\n",
       " 'no location',\n",
       " 'no location',\n",
       " 'no location',\n",
       " 'florida',\n",
       " 'no location',\n",
       " 'california mermaid',\n",
       " 'new york atl',\n",
       " 'usa florida via brooklyn ny',\n",
       " 'no location',\n",
       " 'h pez sophia',\n",
       " 'brooklyn ny',\n",
       " 'queens ny',\n",
       " 'vancouver bc',\n",
       " 'no location',\n",
       " 'no location',\n",
       " 'ottawa canada',\n",
       " 'wherever',\n",
       " 'purgatory usa',\n",
       " 'calgary alberta',\n",
       " 'kama france',\n",
       " 'sydney',\n",
       " 'no location',\n",
       " 'london',\n",
       " 'maryland usa',\n",
       " 'daruka near tamworth nsw',\n",
       " 'ijmuiden netherlands',\n",
       " 'university heights ohio',\n",
       " 'central illinois',\n",
       " 'baton rouge',\n",
       " 'no location',\n",
       " 'usa',\n",
       " 'psn pipbois',\n",
       " 'colombo sri lanka',\n",
       " 'no location',\n",
       " 'johannesburg south africa',\n",
       " 'mammy belly',\n",
       " 'uk ibiza',\n",
       " 'no location',\n",
       " 'laventillemoorings',\n",
       " 'uk',\n",
       " 'scotland',\n",
       " 'london',\n",
       " 'vancouver bc',\n",
       " 'cleveland oh',\n",
       " 'kama france',\n",
       " 'kama france',\n",
       " 'uk',\n",
       " 'detroit mi united states',\n",
       " 'no location',\n",
       " 'no location',\n",
       " 'no location',\n",
       " 'no location',\n",
       " 'guelph ontario canada',\n",
       " 'waterfront',\n",
       " 'columbus ohio',\n",
       " 'canada',\n",
       " 'waukesha wi',\n",
       " 'sydney',\n",
       " 'no location',\n",
       " 'himalayan mountains',\n",
       " 'no location',\n",
       " 'colorado worldwide',\n",
       " 'no location',\n",
       " 'ontario canada',\n",
       " 'no location',\n",
       " 'no location',\n",
       " 'no location',\n",
       " 'california usa',\n",
       " 'no location',\n",
       " 'no location',\n",
       " 'houston tx',\n",
       " 'lakewood colorado',\n",
       " 'ix',\n",
       " 'washington usa',\n",
       " '',\n",
       " 'united states',\n",
       " 'no location',\n",
       " 'no location',\n",
       " 'ontario canada',\n",
       " 'no location',\n",
       " 'no location',\n",
       " 'no location',\n",
       " 'no location',\n",
       " 'no location',\n",
       " 'no location',\n",
       " 'ideally big tree',\n",
       " 'united states',\n",
       " 'no location',\n",
       " 'no location',\n",
       " 'conversing janet caf',\n",
       " 'no location',\n",
       " 'no location',\n",
       " '',\n",
       " 'no location',\n",
       " 'dime palace',\n",
       " 'cairo egypt',\n",
       " 'no location',\n",
       " 'no location',\n",
       " 'no location',\n",
       " 'no location',\n",
       " 'seattle wa',\n",
       " 'no location',\n",
       " 'bug forest',\n",
       " 'no location',\n",
       " 'canberra',\n",
       " 'no location',\n",
       " 'international',\n",
       " 'no location',\n",
       " 'world',\n",
       " 'htx',\n",
       " 'no location',\n",
       " 'no location',\n",
       " 'punpunl ndia',\n",
       " '',\n",
       " 'itirapina paulo',\n",
       " 'north jersey',\n",
       " 'ewa beach hi',\n",
       " 'biloxi mississippi',\n",
       " 'no location',\n",
       " 'buenos aires',\n",
       " 'indonesia',\n",
       " 'brecksville oh',\n",
       " 'walthamstow london',\n",
       " 'no location',\n",
       " 'malaysia',\n",
       " 'ivano frankivsk',\n",
       " 'sunshine coast queensland',\n",
       " 'dime palace',\n",
       " 'england uk europe sol',\n",
       " 'no location',\n",
       " 'chicago',\n",
       " 'no location',\n",
       " 'nashua nh',\n",
       " 'leicester',\n",
       " '',\n",
       " 'westchester',\n",
       " 'lynnfield',\n",
       " 'level garrison sector g',\n",
       " 'singapore',\n",
       " 'adelaide south australia',\n",
       " 'no location',\n",
       " 'las vegas',\n",
       " 'glasgow',\n",
       " 'no location',\n",
       " 'shity land northern ireland',\n",
       " 'singapore',\n",
       " 'christchurch new zealand',\n",
       " 'peekskill new york',\n",
       " 'no location',\n",
       " 'no location',\n",
       " 'ph',\n",
       " 'storybrooke',\n",
       " 'blanket',\n",
       " 'isolated city world perth',\n",
       " 'brazil',\n",
       " 'aus',\n",
       " 'santa cruz ca',\n",
       " 'inverness nova scotia',\n",
       " 'l z l h c h r c',\n",
       " 'oklahoma',\n",
       " 'sl ut',\n",
       " 'no location',\n",
       " 'fluffy cloud',\n",
       " 'usa',\n",
       " 'th dimension',\n",
       " 'georgia',\n",
       " 'july th',\n",
       " 'grey area',\n",
       " 'no location',\n",
       " 'st paul mn',\n",
       " 'cobblestone',\n",
       " '',\n",
       " 'scotland',\n",
       " 'cosmic oneness',\n",
       " 'guildford uk',\n",
       " 'nowhere islands smash manor',\n",
       " 'kisumu',\n",
       " 'los angeles',\n",
       " 'making worldwide change near u',\n",
       " 'no location',\n",
       " 'no location',\n",
       " 'no location',\n",
       " 'atx',\n",
       " 'la oc vegas',\n",
       " 'london outlaw country',\n",
       " 'grimsby england',\n",
       " 'no location',\n",
       " 'gotham',\n",
       " 'no location',\n",
       " 'manchester world england',\n",
       " 'new york',\n",
       " 'new york',\n",
       " 'no location',\n",
       " 'sitting eddie vedders lap',\n",
       " 'no location',\n",
       " 'new york',\n",
       " 'new york',\n",
       " 'nyc',\n",
       " 'missouri usa',\n",
       " 'us',\n",
       " 'no location',\n",
       " 'no location',\n",
       " 'california usa',\n",
       " 'greenville sc',\n",
       " 'new york',\n",
       " 'new york',\n",
       " 'no location',\n",
       " 'paignton',\n",
       " 'no location',\n",
       " 'california usa',\n",
       " 'new york',\n",
       " 'no location',\n",
       " 'paignton',\n",
       " 'no location',\n",
       " 'no location',\n",
       " 'paignton',\n",
       " 'no location',\n",
       " 'new york',\n",
       " 'new york',\n",
       " 'paignton',\n",
       " 'no location',\n",
       " 'new york',\n",
       " 'no location',\n",
       " 'car travel',\n",
       " 'sydney new south wales',\n",
       " 'atl sea',\n",
       " '',\n",
       " 'no location',\n",
       " 'englewood chicago',\n",
       " '',\n",
       " 'new',\n",
       " 'texas',\n",
       " 'new york ny',\n",
       " 'no location',\n",
       " 'purple booth studio',\n",
       " 'cloud',\n",
       " 'no location',\n",
       " 'former yugoslav republic macedonia',\n",
       " ...]"
      ]
     },
     "execution_count": 26,
     "metadata": {},
     "output_type": "execute_result"
    }
   ],
   "source": [
    "processed_tr_loc"
   ]
  },
  {
   "cell_type": "code",
   "execution_count": 27,
   "metadata": {},
   "outputs": [
    {
     "data": {
      "text/html": [
       "<div>\n",
       "<style scoped>\n",
       "    .dataframe tbody tr th:only-of-type {\n",
       "        vertical-align: middle;\n",
       "    }\n",
       "\n",
       "    .dataframe tbody tr th {\n",
       "        vertical-align: top;\n",
       "    }\n",
       "\n",
       "    .dataframe thead th {\n",
       "        text-align: right;\n",
       "    }\n",
       "</style>\n",
       "<table border=\"1\" class=\"dataframe\">\n",
       "  <thead>\n",
       "    <tr style=\"text-align: right;\">\n",
       "      <th></th>\n",
       "      <th>target</th>\n",
       "      <th>keyword</th>\n",
       "      <th>location</th>\n",
       "      <th>text</th>\n",
       "    </tr>\n",
       "  </thead>\n",
       "  <tbody>\n",
       "    <tr>\n",
       "      <th>0</th>\n",
       "      <td>1</td>\n",
       "      <td>no keyword</td>\n",
       "      <td>no location</td>\n",
       "      <td>deeds reason earthquake may allah forgive us</td>\n",
       "    </tr>\n",
       "    <tr>\n",
       "      <th>1</th>\n",
       "      <td>1</td>\n",
       "      <td>no keyword</td>\n",
       "      <td>no location</td>\n",
       "      <td>forest fire near la ronge sask canada</td>\n",
       "    </tr>\n",
       "    <tr>\n",
       "      <th>2</th>\n",
       "      <td>1</td>\n",
       "      <td>no keyword</td>\n",
       "      <td>no location</td>\n",
       "      <td>residents asked ishelter place notified office...</td>\n",
       "    </tr>\n",
       "    <tr>\n",
       "      <th>3</th>\n",
       "      <td>1</td>\n",
       "      <td>no keyword</td>\n",
       "      <td>no location</td>\n",
       "      <td>people receive wild fires evacuation orders ca...</td>\n",
       "    </tr>\n",
       "    <tr>\n",
       "      <th>4</th>\n",
       "      <td>1</td>\n",
       "      <td>no keyword</td>\n",
       "      <td>no location</td>\n",
       "      <td>got sent photo ruby alaska smoke wild fires po...</td>\n",
       "    </tr>\n",
       "  </tbody>\n",
       "</table>\n",
       "</div>"
      ],
      "text/plain": [
       "   target     keyword     location  \\\n",
       "0       1  no keyword  no location   \n",
       "1       1  no keyword  no location   \n",
       "2       1  no keyword  no location   \n",
       "3       1  no keyword  no location   \n",
       "4       1  no keyword  no location   \n",
       "\n",
       "                                                text  \n",
       "0       deeds reason earthquake may allah forgive us  \n",
       "1              forest fire near la ronge sask canada  \n",
       "2  residents asked ishelter place notified office...  \n",
       "3  people receive wild fires evacuation orders ca...  \n",
       "4  got sent photo ruby alaska smoke wild fires po...  "
      ]
     },
     "execution_count": 27,
     "metadata": {},
     "output_type": "execute_result"
    }
   ],
   "source": [
    "processed_data = train.drop(['id','keyword','location','text'],axis=1)\n",
    "processed_data['keyword'] = processed_tr_key\n",
    "processed_data['location'] = processed_tr_loc\n",
    "processed_data['text'] = processed_tr_text\n",
    "processed_data.head()"
   ]
  },
  {
   "cell_type": "code",
   "execution_count": 28,
   "metadata": {},
   "outputs": [
    {
     "name": "stderr",
     "output_type": "stream",
     "text": [
      "100%|████████████████████████████████████████████████████████████████████████████| 3263/3263 [00:00<00:00, 7856.81it/s]\n"
     ]
    }
   ],
   "source": [
    "processed_te_text = preprocess_text(test['text'].values)"
   ]
  },
  {
   "cell_type": "code",
   "execution_count": 29,
   "metadata": {},
   "outputs": [
    {
     "name": "stderr",
     "output_type": "stream",
     "text": [
      "100%|███████████████████████████████████████████████████████████████████████████| 3263/3263 [00:00<00:00, 20305.75it/s]\n"
     ]
    }
   ],
   "source": [
    "processed_te_key = preprocess_text(test['keyword'].values)"
   ]
  },
  {
   "cell_type": "code",
   "execution_count": 30,
   "metadata": {},
   "outputs": [
    {
     "data": {
      "text/html": [
       "<div>\n",
       "<style scoped>\n",
       "    .dataframe tbody tr th:only-of-type {\n",
       "        vertical-align: middle;\n",
       "    }\n",
       "\n",
       "    .dataframe tbody tr th {\n",
       "        vertical-align: top;\n",
       "    }\n",
       "\n",
       "    .dataframe thead th {\n",
       "        text-align: right;\n",
       "    }\n",
       "</style>\n",
       "<table border=\"1\" class=\"dataframe\">\n",
       "  <thead>\n",
       "    <tr style=\"text-align: right;\">\n",
       "      <th></th>\n",
       "      <th>keyword</th>\n",
       "      <th>text</th>\n",
       "    </tr>\n",
       "  </thead>\n",
       "  <tbody>\n",
       "    <tr>\n",
       "      <th>0</th>\n",
       "      <td>no keyword</td>\n",
       "      <td>happened terrible car crash</td>\n",
       "    </tr>\n",
       "    <tr>\n",
       "      <th>1</th>\n",
       "      <td>no keyword</td>\n",
       "      <td>heard earthquake different cities stay safe ev...</td>\n",
       "    </tr>\n",
       "    <tr>\n",
       "      <th>2</th>\n",
       "      <td>no keyword</td>\n",
       "      <td>forest fire spot pond geese fleeing across str...</td>\n",
       "    </tr>\n",
       "    <tr>\n",
       "      <th>3</th>\n",
       "      <td>no keyword</td>\n",
       "      <td>apocalypse lighting spokane wild fires</td>\n",
       "    </tr>\n",
       "    <tr>\n",
       "      <th>4</th>\n",
       "      <td>no keyword</td>\n",
       "      <td>typhoon soudelor kills china taiwan</td>\n",
       "    </tr>\n",
       "  </tbody>\n",
       "</table>\n",
       "</div>"
      ],
      "text/plain": [
       "      keyword                                               text\n",
       "0  no keyword                        happened terrible car crash\n",
       "1  no keyword  heard earthquake different cities stay safe ev...\n",
       "2  no keyword  forest fire spot pond geese fleeing across str...\n",
       "3  no keyword             apocalypse lighting spokane wild fires\n",
       "4  no keyword                typhoon soudelor kills china taiwan"
      ]
     },
     "execution_count": 30,
     "metadata": {},
     "output_type": "execute_result"
    }
   ],
   "source": [
    "te_id = test['id'].values\n",
    "te_data = test.drop(['id','keyword','location','text'],axis=1)\n",
    "te_data['keyword'] = processed_te_key\n",
    "#te_data['location'] = processed_tr_loc\n",
    "te_data['text'] = processed_te_text\n",
    "te_data.head()"
   ]
  },
  {
   "cell_type": "markdown",
   "metadata": {},
   "source": [
    "## Splitting Data"
   ]
  },
  {
   "cell_type": "code",
   "execution_count": 31,
   "metadata": {},
   "outputs": [
    {
     "data": {
      "text/html": [
       "<div>\n",
       "<style scoped>\n",
       "    .dataframe tbody tr th:only-of-type {\n",
       "        vertical-align: middle;\n",
       "    }\n",
       "\n",
       "    .dataframe tbody tr th {\n",
       "        vertical-align: top;\n",
       "    }\n",
       "\n",
       "    .dataframe thead th {\n",
       "        text-align: right;\n",
       "    }\n",
       "</style>\n",
       "<table border=\"1\" class=\"dataframe\">\n",
       "  <thead>\n",
       "    <tr style=\"text-align: right;\">\n",
       "      <th></th>\n",
       "      <th>keyword</th>\n",
       "      <th>location</th>\n",
       "      <th>text</th>\n",
       "    </tr>\n",
       "  </thead>\n",
       "  <tbody>\n",
       "    <tr>\n",
       "      <th>0</th>\n",
       "      <td>no keyword</td>\n",
       "      <td>no location</td>\n",
       "      <td>deeds reason earthquake may allah forgive us</td>\n",
       "    </tr>\n",
       "    <tr>\n",
       "      <th>1</th>\n",
       "      <td>no keyword</td>\n",
       "      <td>no location</td>\n",
       "      <td>forest fire near la ronge sask canada</td>\n",
       "    </tr>\n",
       "    <tr>\n",
       "      <th>2</th>\n",
       "      <td>no keyword</td>\n",
       "      <td>no location</td>\n",
       "      <td>residents asked ishelter place notified office...</td>\n",
       "    </tr>\n",
       "    <tr>\n",
       "      <th>3</th>\n",
       "      <td>no keyword</td>\n",
       "      <td>no location</td>\n",
       "      <td>people receive wild fires evacuation orders ca...</td>\n",
       "    </tr>\n",
       "    <tr>\n",
       "      <th>4</th>\n",
       "      <td>no keyword</td>\n",
       "      <td>no location</td>\n",
       "      <td>got sent photo ruby alaska smoke wild fires po...</td>\n",
       "    </tr>\n",
       "  </tbody>\n",
       "</table>\n",
       "</div>"
      ],
      "text/plain": [
       "      keyword     location                                               text\n",
       "0  no keyword  no location       deeds reason earthquake may allah forgive us\n",
       "1  no keyword  no location              forest fire near la ronge sask canada\n",
       "2  no keyword  no location  residents asked ishelter place notified office...\n",
       "3  no keyword  no location  people receive wild fires evacuation orders ca...\n",
       "4  no keyword  no location  got sent photo ruby alaska smoke wild fires po..."
      ]
     },
     "execution_count": 31,
     "metadata": {},
     "output_type": "execute_result"
    }
   ],
   "source": [
    "y = processed_data['target'].values\n",
    "X = processed_data.drop(['target'],axis=1) \n",
    "X.head()"
   ]
  },
  {
   "cell_type": "code",
   "execution_count": 32,
   "metadata": {},
   "outputs": [],
   "source": [
    "from sklearn.model_selection import train_test_split\n",
    "X_train, X_test, y_train, y_test = train_test_split(X, y, test_size=0.1, stratify=y)"
   ]
  },
  {
   "cell_type": "markdown",
   "metadata": {},
   "source": [
    "## Making Data Model Ready: encoding using Tf-Idf"
   ]
  },
  {
   "cell_type": "code",
   "execution_count": 33,
   "metadata": {},
   "outputs": [
    {
     "name": "stdout",
     "output_type": "stream",
     "text": [
      "(6851, 3) (6851,)\n",
      "(762, 3) (762,)\n",
      "====================================================================================================\n",
      "After vectorizations\n",
      "(6851, 57720) (6851,)\n",
      "(762, 57720) (762,)\n",
      "====================================================================================================\n",
      "(3263, 57720)\n"
     ]
    }
   ],
   "source": [
    "# Using tf-idf\n",
    "from sklearn.feature_extraction.text import TfidfVectorizer\n",
    "\n",
    "print(X_train.shape, y_train.shape)\n",
    "#print(X_cv.shape, y_cv.shape)\n",
    "print(X_test.shape, y_test.shape)\n",
    "\n",
    "print(\"=\"*100)\n",
    "\n",
    "\n",
    "tfidfVectorizer = TfidfVectorizer(use_idf=True,ngram_range=(1,2))#,sublinear_tf=True)\n",
    "tfidfVectorizer.fit(X_train['text'].values) #fit has to happen only on train data\n",
    "\n",
    "# we use the fitted CountVectorizer to convert the text to vector\n",
    "X_train_text = tfidfVectorizer.transform(X_train['text'].values)\n",
    "#X_cv_essay_tfidf = tfidfVectorizer.transform(X_cv['essay'].values)\n",
    "X_test_text = tfidfVectorizer.transform(X_test['text'].values)\n",
    "\n",
    "te_text = tfidfVectorizer.transform(te_data['text'].values)\n",
    "\n",
    "print(\"After vectorizations\")\n",
    "print(X_train_text.shape, y_train.shape)\n",
    "#print(X_cv_essay_tfidf.shape, y_cv.shape)\n",
    "print(X_test_text.shape, y_test.shape)\n",
    "print(\"=\"*100)\n",
    "print(te_text.shape)"
   ]
  },
  {
   "cell_type": "code",
   "execution_count": 34,
   "metadata": {},
   "outputs": [
    {
     "name": "stdout",
     "output_type": "stream",
     "text": [
      "(6851, 3) (6851,)\n",
      "(762, 3) (762,)\n",
      "====================================================================================================\n",
      "After vectorizations\n",
      "(6851, 269) (6851,)\n",
      "(762, 269) (762,)\n",
      "====================================================================================================\n",
      "(3263, 269)\n"
     ]
    }
   ],
   "source": [
    "# Using tf-idf\n",
    "from sklearn.feature_extraction.text import TfidfVectorizer\n",
    "\n",
    "print(X_train.shape, y_train.shape)\n",
    "#print(X_cv.shape, y_cv.shape)\n",
    "print(X_test.shape, y_test.shape)\n",
    "\n",
    "print(\"=\"*100)\n",
    "\n",
    "\n",
    "tfidfVectorizer = TfidfVectorizer(use_idf=True,ngram_range=(1,2))#,sublinear_tf=True)\n",
    "tfidfVectorizer.fit(X_train['keyword'].values) #fit has to happen only on train data\n",
    "\n",
    "# we use the fitted CountVectorizer to convert the text to vector\n",
    "X_train_keyword = tfidfVectorizer.transform(X_train['keyword'].values)\n",
    "#X_cv_essay_tfidf = tfidfVectorizer.transform(X_cv['essay'].values)\n",
    "X_test_keyword = tfidfVectorizer.transform(X_test['keyword'].values)\n",
    "\n",
    "\n",
    "te_keyword = tfidfVectorizer.transform(te_data['keyword'].values)\n",
    "\n",
    "\n",
    "print(\"After vectorizations\")\n",
    "print(X_train_keyword.shape, y_train.shape)\n",
    "#print(X_cv_essay_tfidf.shape, y_cv.shape)\n",
    "print(X_test_keyword.shape, y_test.shape)\n",
    "print(\"=\"*100)\n",
    "print(te_keyword.shape)"
   ]
  },
  {
   "cell_type": "markdown",
   "metadata": {},
   "source": [
    "##  Concatinating all the features"
   ]
  },
  {
   "cell_type": "code",
   "execution_count": 35,
   "metadata": {},
   "outputs": [
    {
     "name": "stdout",
     "output_type": "stream",
     "text": [
      "Final Data matrix\n",
      "(6851, 57989) (6851,)\n",
      "(762, 57989) (762,)\n",
      "====================================================================================================\n",
      "(3263, 57989)\n"
     ]
    }
   ],
   "source": [
    "from scipy.sparse import hstack\n",
    "X_tr = hstack((X_train_text, X_train_keyword)).tocsr()\n",
    "#X_cv_tfidf = hstack((X_cv_essay_tfidf, X_cv_state_ohe, X_cv_teacher_ohe, X_cv_grade_ohe,X_cv_clean_ohe,X_cv_clean_sub_ohe, \n",
    "#               X_cv_price_norm,X_cv_prev_posted_projects_norm)).tocsr()\n",
    "X_te = hstack((X_test_text, X_test_keyword)).tocsr()\n",
    "\n",
    "print(\"Final Data matrix\")\n",
    "print(X_tr.shape, y_train.shape)\n",
    "#print(X_cv_tfidf.shape, y_cv.shape)\n",
    "print(X_te.shape, y_test.shape)\n",
    "print(\"=\"*100)\n",
    "\n",
    "te_data = hstack((te_text,te_keyword)).tocsr()\n",
    "print(te_data.shape)"
   ]
  },
  {
   "cell_type": "markdown",
   "metadata": {},
   "source": [
    "## Applying Naive Bayes"
   ]
  },
  {
   "cell_type": "code",
   "execution_count": 36,
   "metadata": {},
   "outputs": [],
   "source": [
    "from sklearn.model_selection import GridSearchCV\n",
    "import matplotlib.pyplot as plt\n",
    "from sklearn.naive_bayes import MultinomialNB\n",
    "from sklearn.metrics import roc_auc_score\n",
    "import math\n",
    "from sklearn.model_selection import GridSearchCV\n",
    "from scipy.stats import randint as sp_randint\n",
    "from sklearn.model_selection import RandomizedSearchCV\n",
    "from sklearn.metrics import f1_score"
   ]
  },
  {
   "cell_type": "markdown",
   "metadata": {},
   "source": [
    "### Training Model using Text"
   ]
  },
  {
   "cell_type": "code",
   "execution_count": 37,
   "metadata": {},
   "outputs": [
    {
     "name": "stdout",
     "output_type": "stream",
     "text": [
      "Fitting 20 folds for each of 14 candidates, totalling 280 fits\n"
     ]
    },
    {
     "data": {
      "image/png": "[encoded data removed]",
      "text/plain": [
       "<Figure size 432x288 with 1 Axes>"
      ]
     },
     "metadata": {
      "needs_background": "light"
     },
     "output_type": "display_data"
    },
    {
     "name": "stdout",
     "output_type": "stream",
     "text": [
      "BEST ALPHA:  1                               BEST SCORE:  0.8520106299552364\n"
     ]
    }
   ],
   "source": [
    "# https://scikit-learn.org/stable/modules/generated/sklearn.model_selection.GridSearchCV.html\n",
    "\n",
    "MltNB_tfidf = MultinomialNB(fit_prior=True,class_prior=[0.5, 0.5])\n",
    "parameters = {'alpha':[0.00001,0.0005, 0.0001,0.005,0.001,0.05,0.01,0.1,0.5,1,5,10,50,100]}\n",
    "clf = GridSearchCV(MltNB_tfidf, parameters, cv= 20, scoring='roc_auc',verbose=1,return_train_score=True)\n",
    "# clf.fit(x_cv_onehot_bow, y_cv)\n",
    "clf.fit(X_train_text,y_train)\n",
    "\n",
    "results = pd.DataFrame.from_dict(clf.cv_results_)\n",
    "#print(results)\n",
    "results = results.sort_values(['param_alpha'])\n",
    "\n",
    "train_auc = results['mean_train_score']\n",
    "train_auc_std = results['std_train_score']\n",
    "cv_auc = results['mean_test_score'] \n",
    "cv_auc_std = results['std_test_score']\n",
    "alpha =  results['param_alpha']\n",
    "\n",
    "bestAlpha_2 =clf.best_params_['alpha']\n",
    "bestScore_2 = clf.best_score_\n",
    "\n",
    "plt.plot(alpha, train_auc, label='Train AUC')\n",
    "# this code is copied from here: https://stackoverflow.com/a/48803361/4084039\n",
    "# plt.gca().fill_between(K, train_auc - train_auc_std,train_auc + train_auc_std,alpha=0.2,color='darkblue')\n",
    "\n",
    "plt.plot(alpha, cv_auc, label='CV AUC')\n",
    "# this code is copied from here: https://stackoverflow.com/a/48803361/4084039\n",
    "# plt.gca().fill_between(K, cv_auc - cv_auc_std,cv_auc + cv_auc_std,alpha=0.2,color='darkorange')\n",
    "\n",
    "plt.scatter(alpha, train_auc, label='Train AUC points')\n",
    "plt.scatter(alpha, cv_auc, label='CV AUC points')\n",
    "\n",
    "\n",
    "plt.legend()\n",
    "plt.xlabel(\"alpha: hyperparameter\")\n",
    "plt.ylabel(\"AUC\")\n",
    "plt.title(\"Hyper parameter Vs AUC plot\")\n",
    "plt.grid()\n",
    "plt.show()\n",
    "\n",
    "results.head()\n",
    "\n",
    "\n",
    "\n",
    "print(\"BEST ALPHA: \",bestAlpha_2,\"                            \",\" BEST SCORE: \",bestScore_2) "
   ]
  },
  {
   "cell_type": "code",
   "execution_count": 38,
   "metadata": {},
   "outputs": [
    {
     "data": {
      "image/png": "[encoded data removed]",
      "text/plain": [
       "<Figure size 432x288 with 1 Axes>"
      ]
     },
     "metadata": {
      "needs_background": "light"
     },
     "output_type": "display_data"
    }
   ],
   "source": [
    "# https://scikit-learn.org/stable/modules/generated/sklearn.metrics.roc_curve.html#sklearn.metrics.roc_curve\n",
    "from sklearn.metrics import roc_curve, auc\n",
    "\n",
    "\n",
    "MltNB_tfidf = MultinomialNB(alpha = bestAlpha_2, fit_prior=True, class_prior=[0.5, 0.5])\n",
    "MltNB_tfidf.fit(X_train_text,y_train)\n",
    "\n",
    "\n",
    "#neigh = KNeighborsClassifier(n_neighbors=best_k, n_jobs=-1)\n",
    "#neigh.fit(X_tr, y_train)\n",
    "# roc_auc_score(y_true, y_score) the 2nd parameter should be probability estimates of the positive class\n",
    "# not the predicted outputs\n",
    "\n",
    "y_train_pred = MltNB_tfidf.predict(X_train_text)\n",
    "y_test_pred = MltNB_tfidf.predict(X_test_text)\n",
    "\n",
    "train_fpr, train_tpr, tr_thresholds = roc_curve(y_train, y_train_pred)\n",
    "test_fpr, test_tpr, te_thresholds = roc_curve(y_test, y_test_pred)\n",
    "\n",
    "set2_tr_auc = auc(train_fpr, train_tpr)\n",
    "set2_te_auc = auc(test_fpr, test_tpr)\n",
    "\n",
    "plt.plot(train_fpr, train_tpr, label=\"train AUC =\"+str(auc(train_fpr, train_tpr)))\n",
    "plt.plot(test_fpr, test_tpr, label=\"test AUC =\"+str(auc(test_fpr, test_tpr)))\n",
    "plt.legend()\n",
    "plt.xlabel(\"False Positive Rate\")\n",
    "plt.ylabel(\"True Positive Rate\")\n",
    "plt.title(\"ROC Curve\")\n",
    "plt.grid()\n",
    "plt.show()"
   ]
  },
  {
   "cell_type": "code",
   "execution_count": 39,
   "metadata": {},
   "outputs": [
    {
     "name": "stdout",
     "output_type": "stream",
     "text": [
      "0.8077598426253226\n"
     ]
    }
   ],
   "source": [
    "F1_test = f1_score(y_test,y_test_pred,average='weighted')\n",
    "print(F1_test)"
   ]
  },
  {
   "cell_type": "markdown",
   "metadata": {},
   "source": [
    "### Training Model using keyword"
   ]
  },
  {
   "cell_type": "code",
   "execution_count": 41,
   "metadata": {},
   "outputs": [
    {
     "name": "stdout",
     "output_type": "stream",
     "text": [
      "Fitting 20 folds for each of 14 candidates, totalling 280 fits\n"
     ]
    },
    {
     "data": {
      "image/png": "[encoded data removed]",
      "text/plain": [
       "<Figure size 432x288 with 1 Axes>"
      ]
     },
     "metadata": {
      "needs_background": "light"
     },
     "output_type": "display_data"
    },
    {
     "name": "stdout",
     "output_type": "stream",
     "text": [
      "BEST ALPHA:  10                               BEST SCORE:  0.7916235639814356\n"
     ]
    }
   ],
   "source": [
    "# https://scikit-learn.org/stable/modules/generated/sklearn.model_selection.GridSearchCV.html\n",
    "\n",
    "MltNB_tfidf = MultinomialNB(fit_prior=True,class_prior=[0.5, 0.5])\n",
    "parameters = {'alpha':[0.00001,0.0005, 0.0001,0.005,0.001,0.05,0.01,0.1,0.5,1,5,10,50,100]}\n",
    "clf = GridSearchCV(MltNB_tfidf, parameters, cv= 20, scoring='roc_auc',verbose=1,return_train_score=True)\n",
    "# clf.fit(x_cv_onehot_bow, y_cv)\n",
    "clf.fit(X_train_keyword,y_train)\n",
    "\n",
    "results = pd.DataFrame.from_dict(clf.cv_results_)\n",
    "#print(results)\n",
    "results = results.sort_values(['param_alpha'])\n",
    "\n",
    "train_auc = results['mean_train_score']\n",
    "train_auc_std = results['std_train_score']\n",
    "cv_auc = results['mean_test_score'] \n",
    "cv_auc_std = results['std_test_score']\n",
    "alpha =  results['param_alpha']\n",
    "\n",
    "bestAlpha_2 =clf.best_params_['alpha']\n",
    "bestScore_2 = clf.best_score_\n",
    "\n",
    "plt.plot(alpha, train_auc, label='Train AUC')\n",
    "# this code is copied from here: https://stackoverflow.com/a/48803361/4084039\n",
    "# plt.gca().fill_between(K, train_auc - train_auc_std,train_auc + train_auc_std,alpha=0.2,color='darkblue')\n",
    "\n",
    "plt.plot(alpha, cv_auc, label='CV AUC')\n",
    "# this code is copied from here: https://stackoverflow.com/a/48803361/4084039\n",
    "# plt.gca().fill_between(K, cv_auc - cv_auc_std,cv_auc + cv_auc_std,alpha=0.2,color='darkorange')\n",
    "\n",
    "plt.scatter(alpha, train_auc, label='Train AUC points')\n",
    "plt.scatter(alpha, cv_auc, label='CV AUC points')\n",
    "\n",
    "\n",
    "plt.legend()\n",
    "plt.xlabel(\"alpha: hyperparameter\")\n",
    "plt.ylabel(\"AUC\")\n",
    "plt.title(\"Hyper parameter Vs AUC plot\")\n",
    "plt.grid()\n",
    "plt.show()\n",
    "\n",
    "results.head()\n",
    "\n",
    "\n",
    "\n",
    "print(\"BEST ALPHA: \",bestAlpha_2,\"                            \",\" BEST SCORE: \",bestScore_2) "
   ]
  },
  {
   "cell_type": "code",
   "execution_count": 42,
   "metadata": {},
   "outputs": [
    {
     "data": {
      "image/png": "[encoded data removed]",
      "text/plain": [
       "<Figure size 432x288 with 1 Axes>"
      ]
     },
     "metadata": {
      "needs_background": "light"
     },
     "output_type": "display_data"
    }
   ],
   "source": [
    "# https://scikit-learn.org/stable/modules/generated/sklearn.metrics.roc_curve.html#sklearn.metrics.roc_curve\n",
    "from sklearn.metrics import roc_curve, auc\n",
    "\n",
    "\n",
    "MltNB_tfidf = MultinomialNB(alpha = bestAlpha_2, fit_prior=True, class_prior=[0.5, 0.5])\n",
    "MltNB_tfidf.fit(X_train_keyword,y_train)\n",
    "\n",
    "\n",
    "#neigh = KNeighborsClassifier(n_neighbors=best_k, n_jobs=-1)\n",
    "#neigh.fit(X_tr, y_train)\n",
    "# roc_auc_score(y_true, y_score) the 2nd parameter should be probability estimates of the positive class\n",
    "# not the predicted outputs\n",
    "\n",
    "y_train_pred = MltNB_tfidf.predict(X_train_keyword)\n",
    "y_test_pred = MltNB_tfidf.predict(X_test_keyword)\n",
    "\n",
    "train_fpr, train_tpr, tr_thresholds = roc_curve(y_train, y_train_pred)\n",
    "test_fpr, test_tpr, te_thresholds = roc_curve(y_test, y_test_pred)\n",
    "\n",
    "set2_tr_auc = auc(train_fpr, train_tpr)\n",
    "set2_te_auc = auc(test_fpr, test_tpr)\n",
    "\n",
    "plt.plot(train_fpr, train_tpr, label=\"train AUC =\"+str(auc(train_fpr, train_tpr)))\n",
    "plt.plot(test_fpr, test_tpr, label=\"test AUC =\"+str(auc(test_fpr, test_tpr)))\n",
    "plt.legend()\n",
    "plt.xlabel(\"False Positive Rate\")\n",
    "plt.ylabel(\"True Positive Rate\")\n",
    "plt.title(\"ROC Curve\")\n",
    "plt.grid()\n",
    "plt.show()"
   ]
  },
  {
   "cell_type": "code",
   "execution_count": 43,
   "metadata": {},
   "outputs": [
    {
     "name": "stdout",
     "output_type": "stream",
     "text": [
      "0.721713835508531\n"
     ]
    }
   ],
   "source": [
    "F1_test = f1_score(y_test,y_test_pred,average='weighted')\n",
    "print(F1_test)"
   ]
  },
  {
   "cell_type": "markdown",
   "metadata": {},
   "source": [
    "### Training Model using Text and Keyword"
   ]
  },
  {
   "cell_type": "code",
   "execution_count": 44,
   "metadata": {},
   "outputs": [
    {
     "name": "stdout",
     "output_type": "stream",
     "text": [
      "Fitting 20 folds for each of 14 candidates, totalling 280 fits\n"
     ]
    },
    {
     "data": {
      "image/png": "[encoded data removed]",
      "text/plain": [
       "<Figure size 432x288 with 1 Axes>"
      ]
     },
     "metadata": {
      "needs_background": "light"
     },
     "output_type": "display_data"
    },
    {
     "name": "stdout",
     "output_type": "stream",
     "text": [
      "BEST ALPHA:  0.1                               BEST SCORE:  0.8517650302161963\n"
     ]
    }
   ],
   "source": [
    "# https://scikit-learn.org/stable/modules/generated/sklearn.model_selection.GridSearchCV.html\n",
    "\n",
    "MltNB_tfidf = MultinomialNB(fit_prior=True,class_prior=[0.5, 0.5])\n",
    "parameters = {'alpha':[0.00001,0.0005, 0.0001,0.005,0.001,0.05,0.01,0.1,0.5,1,5,10,50,100]}\n",
    "clf = GridSearchCV(MltNB_tfidf, parameters, cv= 20, scoring='roc_auc',verbose=1,return_train_score=True)\n",
    "# clf.fit(x_cv_onehot_bow, y_cv)\n",
    "clf.fit(X_tr,y_train)\n",
    "\n",
    "results = pd.DataFrame.from_dict(clf.cv_results_)\n",
    "#print(results)\n",
    "results = results.sort_values(['param_alpha'])\n",
    "\n",
    "train_auc = results['mean_train_score']\n",
    "train_auc_std = results['std_train_score']\n",
    "cv_auc = results['mean_test_score'] \n",
    "cv_auc_std = results['std_test_score']\n",
    "alpha =  results['param_alpha']\n",
    "\n",
    "bestAlpha_2 =clf.best_params_['alpha']\n",
    "bestScore_2 = clf.best_score_\n",
    "\n",
    "plt.plot(alpha, train_auc, label='Train AUC')\n",
    "# this code is copied from here: https://stackoverflow.com/a/48803361/4084039\n",
    "# plt.gca().fill_between(K, train_auc - train_auc_std,train_auc + train_auc_std,alpha=0.2,color='darkblue')\n",
    "\n",
    "plt.plot(alpha, cv_auc, label='CV AUC')\n",
    "# this code is copied from here: https://stackoverflow.com/a/48803361/4084039\n",
    "# plt.gca().fill_between(K, cv_auc - cv_auc_std,cv_auc + cv_auc_std,alpha=0.2,color='darkorange')\n",
    "\n",
    "plt.scatter(alpha, train_auc, label='Train AUC points')\n",
    "plt.scatter(alpha, cv_auc, label='CV AUC points')\n",
    "\n",
    "\n",
    "plt.legend()\n",
    "plt.xlabel(\"alpha: hyperparameter\")\n",
    "plt.ylabel(\"AUC\")\n",
    "plt.title(\"Hyper parameter Vs AUC plot\")\n",
    "plt.grid()\n",
    "plt.show()\n",
    "\n",
    "results.head()\n",
    "\n",
    "\n",
    "\n",
    "print(\"BEST ALPHA: \",bestAlpha_2,\"                            \",\" BEST SCORE: \",bestScore_2) "
   ]
  },
  {
   "cell_type": "code",
   "execution_count": 45,
   "metadata": {},
   "outputs": [
    {
     "data": {
      "image/png": "[encoded data removed]",
      "text/plain": [
       "<Figure size 432x288 with 1 Axes>"
      ]
     },
     "metadata": {
      "needs_background": "light"
     },
     "output_type": "display_data"
    }
   ],
   "source": [
    "# https://scikit-learn.org/stable/modules/generated/sklearn.metrics.roc_curve.html#sklearn.metrics.roc_curve\n",
    "from sklearn.metrics import roc_curve, auc\n",
    "\n",
    "\n",
    "MltNB_tfidf = MultinomialNB(alpha = bestAlpha_2,fit_prior=True)\n",
    "MltNB_tfidf.fit(X_tr,y_train)\n",
    "\n",
    "\n",
    "#neigh = KNeighborsClassifier(n_neighbors=best_k, n_jobs=-1)\n",
    "#neigh.fit(X_tr, y_train)\n",
    "# roc_auc_score(y_true, y_score) the 2nd parameter should be probability estimates of the positive class\n",
    "# not the predicted outputs\n",
    "\n",
    "y_train_pred = MltNB_tfidf.predict(X_tr)\n",
    "y_test_pred = MltNB_tfidf.predict(X_te)\n",
    "\n",
    "train_fpr, train_tpr, tr_thresholds = roc_curve(y_train, y_train_pred)\n",
    "test_fpr, test_tpr, te_thresholds = roc_curve(y_test, y_test_pred)\n",
    "\n",
    "set2_tr_auc = auc(train_fpr, train_tpr)\n",
    "set2_te_auc = auc(test_fpr, test_tpr)\n",
    "\n",
    "plt.plot(train_fpr, train_tpr, label=\"train AUC =\"+str(auc(train_fpr, train_tpr)))\n",
    "plt.plot(test_fpr, test_tpr, label=\"test AUC =\"+str(auc(test_fpr, test_tpr)))\n",
    "plt.legend()\n",
    "plt.xlabel(\"False Positive Rate\")\n",
    "plt.ylabel(\"True Positive Rate\")\n",
    "plt.title(\"ROC Curve\")\n",
    "plt.grid()\n",
    "plt.show()"
   ]
  },
  {
   "cell_type": "code",
   "execution_count": 46,
   "metadata": {},
   "outputs": [
    {
     "name": "stdout",
     "output_type": "stream",
     "text": [
      "0.8132602804590137\n"
     ]
    }
   ],
   "source": [
    "F1_test = f1_score(y_test,y_test_pred,average='weighted')\n",
    "print(F1_test)"
   ]
  },
  {
   "cell_type": "markdown",
   "metadata": {},
   "source": [
    "## Final Model"
   ]
  },
  {
   "cell_type": "code",
   "execution_count": 52,
   "metadata": {},
   "outputs": [],
   "source": [
    "# We will use text and keyword features as using these feature f1-score is highest."
   ]
  },
  {
   "cell_type": "code",
   "execution_count": 51,
   "metadata": {},
   "outputs": [
    {
     "name": "stdout",
     "output_type": "stream",
     "text": [
      "The accuracy of Naive Bayes clasifier is 81.36482939632546%\n",
      "\n",
      " [[369  66]\n",
      " [ 76 251]]\n",
      "0.8132602804590137\n"
     ]
    }
   ],
   "source": [
    "from sklearn.naive_bayes import MultinomialNB\n",
    "from sklearn.metrics import accuracy_score\n",
    "from sklearn.metrics import confusion_matrix\n",
    "from sklearn.metrics import f1_score\n",
    "\n",
    "clf = MultinomialNB(alpha=0.1,fit_prior=True)\n",
    "clf.fit(X_tr,y_train)\n",
    "predicted_values_NB = clf.predict(X_te)\n",
    "predictions = dict()\n",
    "accuracy = accuracy_score(y_test, predicted_values_NB)\n",
    "predictions['Naive Bayes'] = accuracy * 100\n",
    "confusionmatrix = confusion_matrix(y_test, predicted_values_NB)\n",
    "print(\"The accuracy of Naive Bayes clasifier is {}%\".format(accuracy * 100))\n",
    "print(\"\\n\", confusionmatrix)\n",
    "F1_test = f1_score(y_test,predicted_values_NB,average='weighted')\n",
    "print(F1_test)"
   ]
  },
  {
   "cell_type": "code",
   "execution_count": 48,
   "metadata": {},
   "outputs": [],
   "source": [
    "te_pred = clf.predict(te_text)\n",
    "pred = pd.DataFrame(te_id, columns = ['Id'])\n",
    "pred['target']=te_pred\n",
    "pred.head()\n",
    "pred.to_csv('pred.csv',index=False)"
   ]
  }
 ],
 "metadata": {
  "kernelspec": {
   "display_name": "Python 3",
   "language": "python",
   "name": "python3"
  },
  "language_info": {
   "codemirror_mode": {
    "name": "ipython",
    "version": 3
   },
   "file_extension": ".py",
   "mimetype": "text/x-python",
   "name": "python",
   "nbconvert_exporter": "python",
   "pygments_lexer": "ipython3",
   "version": "3.8.3"
  }
 },
 "nbformat": 4,
 "nbformat_minor": 4
}
